{
 "cells": [
  {
   "cell_type": "code",
   "execution_count": 3,
   "id": "bf99e912-cbc5-44ce-8989-66b0d5125454",
   "metadata": {},
   "outputs": [
    {
     "data": {
      "text/plain": [
       "Index(['no_of_employees', 'yr_of_estab', 'prevailing_wage'], dtype='object')"
      ]
     },
     "execution_count": 3,
     "metadata": {},
     "output_type": "execute_result"
    }
   ],
   "source": [
    "import pandas as pd\n",
    "import numpy as np \n",
    "import matplotlib.pyplot as plt\n",
    "import seaborn as sns\n",
    "\n",
    "visa_df=pd.read_csv(r'C:\\Users\\rajat\\OneDrive\\Desktop\\DS GenAI\\Data Files\\Visadataset.csv')\n",
    "\n",
    "cat=visa_df.select_dtypes(include='object').columns\n",
    "num=visa_df.select_dtypes(exclude='object').columns\n",
    "num"
   ]
  },
  {
   "cell_type": "code",
   "execution_count": 5,
   "id": "78342aa4-11fe-400d-9789-0932286488d3",
   "metadata": {},
   "outputs": [
    {
     "ename": "SyntaxError",
     "evalue": "invalid decimal literal (2748068776.py, line 11)",
     "output_type": "error",
     "traceback": [
      "\u001b[1;36m  Cell \u001b[1;32mIn[5], line 11\u001b[1;36m\u001b[0m\n\u001b[1;33m    - 25p\u001b[0m\n\u001b[1;37m       ^\u001b[0m\n\u001b[1;31mSyntaxError\u001b[0m\u001b[1;31m:\u001b[0m invalid decimal literal\n"
     ]
    }
   ],
   "source": [
    "- len\n",
    "\n",
    "- min \n",
    "\n",
    "- mean\n",
    "\n",
    "- median\n",
    "\n",
    "- max\n",
    "\n",
    "- 25p\n",
    "\n",
    "- 50p\n",
    "\n",
    "- 75p"
   ]
  },
  {
   "cell_type": "code",
   "execution_count": 7,
   "id": "1ee6d4c4-a600-4370-a75e-86a4823d4366",
   "metadata": {},
   "outputs": [],
   "source": [
    "wage_data=visa_df['prevailing_wage']"
   ]
  },
  {
   "cell_type": "code",
   "execution_count": 9,
   "id": "099887a5-296a-451c-8ca4-2e00e84783d4",
   "metadata": {},
   "outputs": [],
   "source": [
    "wage_count=len(wage_data)\n",
    "wage_min=round(np.min(wage_data),2)\n",
    "wage_max=round(np.max(wage_data),2)\n",
    "wage_mean=round(np.mean(wage_data),2)\n",
    "wage_median=round(np.median(wage_data),2)\n",
    "##########################################\n",
    "wage_25p=round(np.percentile(wage_data,25),2)\n",
    "wage_50p=round(np.percentile(wage_data,50),2)\n",
    "wage_75p=round(np.percentile(wage_data,75),2)\n",
    "wage_25q=round(np.quantile(wage_data,0.25),2)\n",
    "wage_50q=round(np.quantile(wage_data,0.5),2)\n",
    "wage_75q=round(np.quantile(wage_data,0.75),2)\n",
    "############3##############################\n",
    "wage_mean_pd=round(wage_data.mean(),2)\n",
    "wage_median_pd=round(wage_data.median(),2)\n",
    "wage_min_pd=round(wage_data.min(),2)\n",
    "wage_max_pd=round(wage_data.max(),2)"
   ]
  },
  {
   "cell_type": "code",
   "execution_count": 11,
   "id": "f52dbc09-7548-4bcb-b562-c7b3acb6f318",
   "metadata": {},
   "outputs": [
    {
     "name": "stdout",
     "output_type": "stream",
     "text": [
      "The number of observations are 25480\n",
      "The min value of wage is 2.14\n",
      "The min value of wage in pd  is  2.14\n",
      "The 25p value of wage is 34015.48\n",
      "The 25q value of wage is 34015.48\n",
      "The mean value of wage is 74455.81\n",
      "The mean value of wage in pd is 74455.81\n",
      "The 50p value of wage is 70308.21\n",
      "The 50q value of wage is 70308.21\n",
      "The median value of wage is 70308.21\n",
      "The median value of wage is 70308.21\n",
      "The 75p value of wage is 107735.51\n",
      "The 75q value of wage is 107735.51\n",
      "The max value of wage is 319210.27\n",
      "The max value of wage in pd is  319210.27\n"
     ]
    }
   ],
   "source": [
    "print(f'The number of observations are {wage_count}')\n",
    "##################################################################\n",
    "print(f\"The min value of wage is {wage_min}\")\n",
    "print(f\"The min value of wage in pd  is  {wage_min_pd}\")\n",
    "##################################################################\n",
    "print(f\"The 25p value of wage is {wage_25p}\")\n",
    "print(f\"The 25q value of wage is {wage_25q}\")\n",
    "##################################################################\n",
    "print(f\"The mean value of wage is {wage_mean}\")\n",
    "print(f\"The mean value of wage in pd is {wage_mean_pd}\")\n",
    "##################################################################\n",
    "print(f\"The 50p value of wage is {wage_50p}\")\n",
    "print(f\"The 50q value of wage is {wage_50q}\")\n",
    "##################################################################\n",
    "print(f\"The median value of wage is {wage_median}\")\n",
    "print(f\"The median value of wage is {wage_median_pd}\")\n",
    "##################################################################\n",
    "print(f\"The 75p value of wage is {wage_75p}\")\n",
    "print(f\"The 75q value of wage is {wage_75q}\")\n",
    "##################################################################\n",
    "print(f\"The max value of wage is {wage_max}\")\n",
    "print(f\"The max value of wage in pd is  {wage_max_pd}\")"
   ]
  },
  {
   "cell_type": "code",
   "execution_count": 13,
   "id": "0b271d0c-4111-40bc-b965-a9faa84a7364",
   "metadata": {},
   "outputs": [
    {
     "data": {
      "text/html": [
       "<div>\n",
       "<style scoped>\n",
       "    .dataframe tbody tr th:only-of-type {\n",
       "        vertical-align: middle;\n",
       "    }\n",
       "\n",
       "    .dataframe tbody tr th {\n",
       "        vertical-align: top;\n",
       "    }\n",
       "\n",
       "    .dataframe thead th {\n",
       "        text-align: right;\n",
       "    }\n",
       "</style>\n",
       "<table border=\"1\" class=\"dataframe\">\n",
       "  <thead>\n",
       "    <tr style=\"text-align: right;\">\n",
       "      <th></th>\n",
       "      <th>Wage</th>\n",
       "    </tr>\n",
       "  </thead>\n",
       "  <tbody>\n",
       "    <tr>\n",
       "      <th>Count</th>\n",
       "      <td>25480.00</td>\n",
       "    </tr>\n",
       "    <tr>\n",
       "      <th>Min</th>\n",
       "      <td>2.14</td>\n",
       "    </tr>\n",
       "    <tr>\n",
       "      <th>25p</th>\n",
       "      <td>34015.48</td>\n",
       "    </tr>\n",
       "    <tr>\n",
       "      <th>Mean</th>\n",
       "      <td>74455.81</td>\n",
       "    </tr>\n",
       "    <tr>\n",
       "      <th>50p</th>\n",
       "      <td>70308.21</td>\n",
       "    </tr>\n",
       "    <tr>\n",
       "      <th>Median</th>\n",
       "      <td>70308.21</td>\n",
       "    </tr>\n",
       "    <tr>\n",
       "      <th>75p</th>\n",
       "      <td>107735.51</td>\n",
       "    </tr>\n",
       "    <tr>\n",
       "      <th>Max</th>\n",
       "      <td>319210.27</td>\n",
       "    </tr>\n",
       "  </tbody>\n",
       "</table>\n",
       "</div>"
      ],
      "text/plain": [
       "             Wage\n",
       "Count    25480.00\n",
       "Min          2.14\n",
       "25p      34015.48\n",
       "Mean     74455.81\n",
       "50p      70308.21\n",
       "Median   70308.21\n",
       "75p     107735.51\n",
       "Max     319210.27"
      ]
     },
     "execution_count": 13,
     "metadata": {},
     "output_type": "execute_result"
    }
   ],
   "source": [
    "index=['Count','Min','25p','Mean','50p','Median','75p','Max']\n",
    "\n",
    "count=len(wage_data)\n",
    "MIN=round(np.min(wage_data),2)\n",
    "MAX=round(np.max(wage_data),2)\n",
    "MEAN=round(np.mean(wage_data),2)\n",
    "MEDIAN=round(np.median(wage_data),2)\n",
    "p_25=round(np.percentile(wage_data,25),2)\n",
    "p_50=round(np.percentile(wage_data,50),2)\n",
    "p_75=round(np.percentile(wage_data,75),2)\n",
    "\n",
    "data = [count, MIN, p_25, MEAN, p_50, MEDIAN, p_75, MAX]\n",
    "pd.DataFrame(data,index=index,columns=['Wage'])"
   ]
  },
  {
   "cell_type": "code",
   "execution_count": 15,
   "id": "7de2fee3-ff75-4993-96cc-92214a40e9c9",
   "metadata": {},
   "outputs": [
    {
     "data": {
      "text/html": [
       "<div>\n",
       "<style scoped>\n",
       "    .dataframe tbody tr th:only-of-type {\n",
       "        vertical-align: middle;\n",
       "    }\n",
       "\n",
       "    .dataframe tbody tr th {\n",
       "        vertical-align: top;\n",
       "    }\n",
       "\n",
       "    .dataframe thead th {\n",
       "        text-align: right;\n",
       "    }\n",
       "</style>\n",
       "<table border=\"1\" class=\"dataframe\">\n",
       "  <thead>\n",
       "    <tr style=\"text-align: right;\">\n",
       "      <th></th>\n",
       "      <th>no_of_employees</th>\n",
       "      <th>yr_of_estab</th>\n",
       "      <th>prevailing_wage</th>\n",
       "    </tr>\n",
       "  </thead>\n",
       "  <tbody>\n",
       "    <tr>\n",
       "      <th>Count</th>\n",
       "      <td>25480.00</td>\n",
       "      <td>25480.00</td>\n",
       "      <td>25480.00</td>\n",
       "    </tr>\n",
       "    <tr>\n",
       "      <th>Min</th>\n",
       "      <td>-26.00</td>\n",
       "      <td>1800.00</td>\n",
       "      <td>2.14</td>\n",
       "    </tr>\n",
       "    <tr>\n",
       "      <th>25p</th>\n",
       "      <td>1022.00</td>\n",
       "      <td>1976.00</td>\n",
       "      <td>34015.48</td>\n",
       "    </tr>\n",
       "    <tr>\n",
       "      <th>Mean</th>\n",
       "      <td>5667.04</td>\n",
       "      <td>1979.41</td>\n",
       "      <td>74455.81</td>\n",
       "    </tr>\n",
       "    <tr>\n",
       "      <th>50p</th>\n",
       "      <td>2109.00</td>\n",
       "      <td>1997.00</td>\n",
       "      <td>70308.21</td>\n",
       "    </tr>\n",
       "    <tr>\n",
       "      <th>Median</th>\n",
       "      <td>2109.00</td>\n",
       "      <td>1997.00</td>\n",
       "      <td>70308.21</td>\n",
       "    </tr>\n",
       "    <tr>\n",
       "      <th>75p</th>\n",
       "      <td>3504.00</td>\n",
       "      <td>2005.00</td>\n",
       "      <td>107735.51</td>\n",
       "    </tr>\n",
       "    <tr>\n",
       "      <th>Max</th>\n",
       "      <td>602069.00</td>\n",
       "      <td>2016.00</td>\n",
       "      <td>319210.27</td>\n",
       "    </tr>\n",
       "  </tbody>\n",
       "</table>\n",
       "</div>"
      ],
      "text/plain": [
       "        no_of_employees  yr_of_estab  prevailing_wage\n",
       "Count          25480.00     25480.00         25480.00\n",
       "Min              -26.00      1800.00             2.14\n",
       "25p             1022.00      1976.00         34015.48\n",
       "Mean            5667.04      1979.41         74455.81\n",
       "50p             2109.00      1997.00         70308.21\n",
       "Median          2109.00      1997.00         70308.21\n",
       "75p             3504.00      2005.00        107735.51\n",
       "Max           602069.00      2016.00        319210.27"
      ]
     },
     "execution_count": 15,
     "metadata": {},
     "output_type": "execute_result"
    }
   ],
   "source": [
    "index=['Count','Min','25p','Mean','50p','Median','75p','Max']\n",
    "df=pd.DataFrame()\n",
    "for i in num:\n",
    "    data=visa_df[i]\n",
    "    count=len(data)\n",
    "    MIN=round(np.min(data),2)\n",
    "    MAX=round(np.max(data),2)\n",
    "    MEAN=round(np.mean(data),2)\n",
    "    MEDIAN=round(np.median(data),2)\n",
    "    p_25=round(np.percentile(data,25),2)\n",
    "    p_50=round(np.percentile(data,50),2)\n",
    "    p_75=round(np.percentile(data,75),2)\n",
    "    \n",
    "    values = [count, MIN, p_25, MEAN, p_50, MEDIAN, p_75, MAX]\n",
    "    \n",
    "    df[i]=values\n",
    "df.index=index\n",
    "df"
   ]
  },
  {
   "cell_type": "code",
   "execution_count": 17,
   "id": "6826f3c4-bf4a-42b1-911b-1ef802eb0ad9",
   "metadata": {},
   "outputs": [
    {
     "data": {
      "text/html": [
       "<div>\n",
       "<style scoped>\n",
       "    .dataframe tbody tr th:only-of-type {\n",
       "        vertical-align: middle;\n",
       "    }\n",
       "\n",
       "    .dataframe tbody tr th {\n",
       "        vertical-align: top;\n",
       "    }\n",
       "\n",
       "    .dataframe thead th {\n",
       "        text-align: right;\n",
       "    }\n",
       "</style>\n",
       "<table border=\"1\" class=\"dataframe\">\n",
       "  <thead>\n",
       "    <tr style=\"text-align: right;\">\n",
       "      <th></th>\n",
       "      <th>no_of_employees</th>\n",
       "      <th>yr_of_estab</th>\n",
       "      <th>prevailing_wage</th>\n",
       "    </tr>\n",
       "  </thead>\n",
       "  <tbody>\n",
       "    <tr>\n",
       "      <th>count</th>\n",
       "      <td>25480.000000</td>\n",
       "      <td>25480.000000</td>\n",
       "      <td>25480.000000</td>\n",
       "    </tr>\n",
       "    <tr>\n",
       "      <th>mean</th>\n",
       "      <td>5667.043210</td>\n",
       "      <td>1979.409929</td>\n",
       "      <td>74455.814592</td>\n",
       "    </tr>\n",
       "    <tr>\n",
       "      <th>std</th>\n",
       "      <td>22877.928848</td>\n",
       "      <td>42.366929</td>\n",
       "      <td>52815.942327</td>\n",
       "    </tr>\n",
       "    <tr>\n",
       "      <th>min</th>\n",
       "      <td>-26.000000</td>\n",
       "      <td>1800.000000</td>\n",
       "      <td>2.136700</td>\n",
       "    </tr>\n",
       "    <tr>\n",
       "      <th>25%</th>\n",
       "      <td>1022.000000</td>\n",
       "      <td>1976.000000</td>\n",
       "      <td>34015.480000</td>\n",
       "    </tr>\n",
       "    <tr>\n",
       "      <th>50%</th>\n",
       "      <td>2109.000000</td>\n",
       "      <td>1997.000000</td>\n",
       "      <td>70308.210000</td>\n",
       "    </tr>\n",
       "    <tr>\n",
       "      <th>75%</th>\n",
       "      <td>3504.000000</td>\n",
       "      <td>2005.000000</td>\n",
       "      <td>107735.512500</td>\n",
       "    </tr>\n",
       "    <tr>\n",
       "      <th>max</th>\n",
       "      <td>602069.000000</td>\n",
       "      <td>2016.000000</td>\n",
       "      <td>319210.270000</td>\n",
       "    </tr>\n",
       "  </tbody>\n",
       "</table>\n",
       "</div>"
      ],
      "text/plain": [
       "       no_of_employees   yr_of_estab  prevailing_wage\n",
       "count     25480.000000  25480.000000     25480.000000\n",
       "mean       5667.043210   1979.409929     74455.814592\n",
       "std       22877.928848     42.366929     52815.942327\n",
       "min         -26.000000   1800.000000         2.136700\n",
       "25%        1022.000000   1976.000000     34015.480000\n",
       "50%        2109.000000   1997.000000     70308.210000\n",
       "75%        3504.000000   2005.000000    107735.512500\n",
       "max      602069.000000   2016.000000    319210.270000"
      ]
     },
     "execution_count": 17,
     "metadata": {},
     "output_type": "execute_result"
    }
   ],
   "source": [
    "visa_df.describe()"
   ]
  },
  {
   "cell_type": "markdown",
   "id": "92414659-186c-468e-9f6f-1f5438d61d6b",
   "metadata": {},
   "source": [
    "**Percentile**\n",
    "\n",
    "- 25 percentage of data less than 34015.47\n",
    "\n",
    "- 25 percentage data = 25*25480/100=6370\n",
    "\n",
    "- 6370 members have salary less than 34015.47"
   ]
  },
  {
   "cell_type": "code",
   "execution_count": 20,
   "id": "d4ac3a40-fb34-4b47-b2f5-8bd7fd46a3b5",
   "metadata": {},
   "outputs": [
    {
     "data": {
      "text/plain": [
       "34015.479999999996"
      ]
     },
     "execution_count": 20,
     "metadata": {},
     "output_type": "execute_result"
    }
   ],
   "source": [
    "np.percentile(wage_data,25)"
   ]
  },
  {
   "cell_type": "code",
   "execution_count": 22,
   "id": "88c09682-c8a4-45fb-aca8-a5d2ff3260c9",
   "metadata": {},
   "outputs": [
    {
     "data": {
      "text/html": [
       "<div>\n",
       "<style scoped>\n",
       "    .dataframe tbody tr th:only-of-type {\n",
       "        vertical-align: middle;\n",
       "    }\n",
       "\n",
       "    .dataframe tbody tr th {\n",
       "        vertical-align: top;\n",
       "    }\n",
       "\n",
       "    .dataframe thead th {\n",
       "        text-align: right;\n",
       "    }\n",
       "</style>\n",
       "<table border=\"1\" class=\"dataframe\">\n",
       "  <thead>\n",
       "    <tr style=\"text-align: right;\">\n",
       "      <th></th>\n",
       "      <th>case_id</th>\n",
       "      <th>continent</th>\n",
       "      <th>education_of_employee</th>\n",
       "      <th>has_job_experience</th>\n",
       "      <th>requires_job_training</th>\n",
       "      <th>no_of_employees</th>\n",
       "      <th>yr_of_estab</th>\n",
       "      <th>region_of_employment</th>\n",
       "      <th>prevailing_wage</th>\n",
       "      <th>unit_of_wage</th>\n",
       "      <th>full_time_position</th>\n",
       "      <th>case_status</th>\n",
       "    </tr>\n",
       "  </thead>\n",
       "  <tbody>\n",
       "    <tr>\n",
       "      <th>0</th>\n",
       "      <td>EZYV01</td>\n",
       "      <td>Asia</td>\n",
       "      <td>High School</td>\n",
       "      <td>N</td>\n",
       "      <td>N</td>\n",
       "      <td>14513</td>\n",
       "      <td>2007</td>\n",
       "      <td>West</td>\n",
       "      <td>592.2029</td>\n",
       "      <td>Hour</td>\n",
       "      <td>Y</td>\n",
       "      <td>Denied</td>\n",
       "    </tr>\n",
       "    <tr>\n",
       "      <th>7</th>\n",
       "      <td>EZYV08</td>\n",
       "      <td>North America</td>\n",
       "      <td>Bachelor's</td>\n",
       "      <td>Y</td>\n",
       "      <td>N</td>\n",
       "      <td>3035</td>\n",
       "      <td>1924</td>\n",
       "      <td>West</td>\n",
       "      <td>418.2298</td>\n",
       "      <td>Hour</td>\n",
       "      <td>Y</td>\n",
       "      <td>Denied</td>\n",
       "    </tr>\n",
       "    <tr>\n",
       "      <th>12</th>\n",
       "      <td>EZYV13</td>\n",
       "      <td>Asia</td>\n",
       "      <td>Bachelor's</td>\n",
       "      <td>Y</td>\n",
       "      <td>N</td>\n",
       "      <td>123876</td>\n",
       "      <td>1963</td>\n",
       "      <td>Northeast</td>\n",
       "      <td>28663.0500</td>\n",
       "      <td>Year</td>\n",
       "      <td>Y</td>\n",
       "      <td>Certified</td>\n",
       "    </tr>\n",
       "    <tr>\n",
       "      <th>16</th>\n",
       "      <td>EZYV17</td>\n",
       "      <td>Europe</td>\n",
       "      <td>Master's</td>\n",
       "      <td>Y</td>\n",
       "      <td>N</td>\n",
       "      <td>76638</td>\n",
       "      <td>1991</td>\n",
       "      <td>Midwest</td>\n",
       "      <td>3706.7900</td>\n",
       "      <td>Year</td>\n",
       "      <td>Y</td>\n",
       "      <td>Certified</td>\n",
       "    </tr>\n",
       "    <tr>\n",
       "      <th>17</th>\n",
       "      <td>EZYV18</td>\n",
       "      <td>Asia</td>\n",
       "      <td>Master's</td>\n",
       "      <td>Y</td>\n",
       "      <td>N</td>\n",
       "      <td>2747</td>\n",
       "      <td>2001</td>\n",
       "      <td>West</td>\n",
       "      <td>16132.6100</td>\n",
       "      <td>Year</td>\n",
       "      <td>Y</td>\n",
       "      <td>Certified</td>\n",
       "    </tr>\n",
       "    <tr>\n",
       "      <th>...</th>\n",
       "      <td>...</td>\n",
       "      <td>...</td>\n",
       "      <td>...</td>\n",
       "      <td>...</td>\n",
       "      <td>...</td>\n",
       "      <td>...</td>\n",
       "      <td>...</td>\n",
       "      <td>...</td>\n",
       "      <td>...</td>\n",
       "      <td>...</td>\n",
       "      <td>...</td>\n",
       "      <td>...</td>\n",
       "    </tr>\n",
       "    <tr>\n",
       "      <th>25461</th>\n",
       "      <td>EZYV25462</td>\n",
       "      <td>Asia</td>\n",
       "      <td>Master's</td>\n",
       "      <td>Y</td>\n",
       "      <td>N</td>\n",
       "      <td>2861</td>\n",
       "      <td>2004</td>\n",
       "      <td>West</td>\n",
       "      <td>54.9196</td>\n",
       "      <td>Hour</td>\n",
       "      <td>Y</td>\n",
       "      <td>Denied</td>\n",
       "    </tr>\n",
       "    <tr>\n",
       "      <th>25465</th>\n",
       "      <td>EZYV25466</td>\n",
       "      <td>North America</td>\n",
       "      <td>High School</td>\n",
       "      <td>N</td>\n",
       "      <td>N</td>\n",
       "      <td>2577</td>\n",
       "      <td>1995</td>\n",
       "      <td>South</td>\n",
       "      <td>481.2238</td>\n",
       "      <td>Hour</td>\n",
       "      <td>Y</td>\n",
       "      <td>Certified</td>\n",
       "    </tr>\n",
       "    <tr>\n",
       "      <th>25466</th>\n",
       "      <td>EZYV25467</td>\n",
       "      <td>Europe</td>\n",
       "      <td>Bachelor's</td>\n",
       "      <td>Y</td>\n",
       "      <td>N</td>\n",
       "      <td>1938</td>\n",
       "      <td>2005</td>\n",
       "      <td>West</td>\n",
       "      <td>6973.4000</td>\n",
       "      <td>Year</td>\n",
       "      <td>Y</td>\n",
       "      <td>Denied</td>\n",
       "    </tr>\n",
       "    <tr>\n",
       "      <th>25470</th>\n",
       "      <td>EZYV25471</td>\n",
       "      <td>North America</td>\n",
       "      <td>Master's</td>\n",
       "      <td>Y</td>\n",
       "      <td>N</td>\n",
       "      <td>2272</td>\n",
       "      <td>1970</td>\n",
       "      <td>Northeast</td>\n",
       "      <td>516.4101</td>\n",
       "      <td>Hour</td>\n",
       "      <td>Y</td>\n",
       "      <td>Certified</td>\n",
       "    </tr>\n",
       "    <tr>\n",
       "      <th>25473</th>\n",
       "      <td>EZYV25474</td>\n",
       "      <td>Asia</td>\n",
       "      <td>Bachelor's</td>\n",
       "      <td>Y</td>\n",
       "      <td>N</td>\n",
       "      <td>2421</td>\n",
       "      <td>2007</td>\n",
       "      <td>Northeast</td>\n",
       "      <td>22845.5600</td>\n",
       "      <td>Year</td>\n",
       "      <td>Y</td>\n",
       "      <td>Certified</td>\n",
       "    </tr>\n",
       "  </tbody>\n",
       "</table>\n",
       "<p>6370 rows × 12 columns</p>\n",
       "</div>"
      ],
      "text/plain": [
       "         case_id      continent education_of_employee has_job_experience  \\\n",
       "0         EZYV01           Asia           High School                  N   \n",
       "7         EZYV08  North America            Bachelor's                  Y   \n",
       "12        EZYV13           Asia            Bachelor's                  Y   \n",
       "16        EZYV17         Europe              Master's                  Y   \n",
       "17        EZYV18           Asia              Master's                  Y   \n",
       "...          ...            ...                   ...                ...   \n",
       "25461  EZYV25462           Asia              Master's                  Y   \n",
       "25465  EZYV25466  North America           High School                  N   \n",
       "25466  EZYV25467         Europe            Bachelor's                  Y   \n",
       "25470  EZYV25471  North America              Master's                  Y   \n",
       "25473  EZYV25474           Asia            Bachelor's                  Y   \n",
       "\n",
       "      requires_job_training  no_of_employees  yr_of_estab  \\\n",
       "0                         N            14513         2007   \n",
       "7                         N             3035         1924   \n",
       "12                        N           123876         1963   \n",
       "16                        N            76638         1991   \n",
       "17                        N             2747         2001   \n",
       "...                     ...              ...          ...   \n",
       "25461                     N             2861         2004   \n",
       "25465                     N             2577         1995   \n",
       "25466                     N             1938         2005   \n",
       "25470                     N             2272         1970   \n",
       "25473                     N             2421         2007   \n",
       "\n",
       "      region_of_employment  prevailing_wage unit_of_wage full_time_position  \\\n",
       "0                     West         592.2029         Hour                  Y   \n",
       "7                     West         418.2298         Hour                  Y   \n",
       "12               Northeast       28663.0500         Year                  Y   \n",
       "16                 Midwest        3706.7900         Year                  Y   \n",
       "17                    West       16132.6100         Year                  Y   \n",
       "...                    ...              ...          ...                ...   \n",
       "25461                 West          54.9196         Hour                  Y   \n",
       "25465                South         481.2238         Hour                  Y   \n",
       "25466                 West        6973.4000         Year                  Y   \n",
       "25470            Northeast         516.4101         Hour                  Y   \n",
       "25473            Northeast       22845.5600         Year                  Y   \n",
       "\n",
       "      case_status  \n",
       "0          Denied  \n",
       "7          Denied  \n",
       "12      Certified  \n",
       "16      Certified  \n",
       "17      Certified  \n",
       "...           ...  \n",
       "25461      Denied  \n",
       "25465   Certified  \n",
       "25466      Denied  \n",
       "25470   Certified  \n",
       "25473   Certified  \n",
       "\n",
       "[6370 rows x 12 columns]"
      ]
     },
     "execution_count": 22,
     "metadata": {},
     "output_type": "execute_result"
    }
   ],
   "source": [
    "con=wage_data<p_25\n",
    "visa_df[con]"
   ]
  },
  {
   "cell_type": "markdown",
   "id": "dbab4f79-2d06-4015-b033-65ee62613536",
   "metadata": {},
   "source": [
    "**Emperical Rule**\n",
    "\n",
    "- u-1 sigma to u+1sigma-------------68p\n",
    "\n",
    "- u-2 sigma to u+2sigma-------------95p\n",
    "\n",
    "- u-3 sigma to u+3sigma-------------99.7p"
   ]
  },
  {
   "cell_type": "code",
   "execution_count": 25,
   "id": "a4ef7215-14f0-45db-81c5-caf2a7ea1ccc",
   "metadata": {},
   "outputs": [],
   "source": [
    "#step-1: u=mean of wage data\n",
    "#step-2: sd= sd of wage data\n",
    "#step-3: lb=u-1*sd\n",
    "#step-4: ub=u+1*sd\n",
    "#step-5: con1=wage_data>lb\n",
    "#step-6: con2=wage_data>ub\n",
    "#step-7: con= con1 and con2\n",
    "#step-8: len(visa_df[con])\n",
    "#step-9: 68*25480/100"
   ]
  },
  {
   "cell_type": "code",
   "execution_count": 43,
   "id": "e959fc35-65f0-4590-9a6a-a42725b8f735",
   "metadata": {},
   "outputs": [
    {
     "data": {
      "text/plain": [
       "False"
      ]
     },
     "execution_count": 43,
     "metadata": {},
     "output_type": "execute_result"
    }
   ],
   "source": [
    "u=wage_data.mean()\n",
    "sd=wage_data.std()\n",
    "lb=u-1*sd\n",
    "ub=u+1*sd\n",
    "con1=wage_data>lb\n",
    "con2=wage_data<ub\n",
    "con= con1 & con2\n",
    "req=len(visa_df[con])\n",
    "acc=68*len(visa_df)/100\n",
    "req==acc"
   ]
  },
  {
   "cell_type": "code",
   "execution_count": 45,
   "id": "af26f406-b3a5-4bba-9781-867bebcab12c",
   "metadata": {},
   "outputs": [
    {
     "data": {
      "text/plain": [
       "False"
      ]
     },
     "execution_count": 45,
     "metadata": {},
     "output_type": "execute_result"
    }
   ],
   "source": [
    "u=wage_data.mean()\n",
    "sd=wage_data.std()\n",
    "lb=u-2*sd\n",
    "ub=u+2*sd\n",
    "con1=wage_data>lb\n",
    "con2=wage_data<ub\n",
    "con= con1 & con2\n",
    "req=len(visa_df[con])\n",
    "acc=95*len(visa_df)/100\n",
    "req==acc"
   ]
  },
  {
   "cell_type": "code",
   "execution_count": 47,
   "id": "b82e8f09-8a4d-44a4-a38c-d612ee79f4ca",
   "metadata": {},
   "outputs": [
    {
     "data": {
      "text/plain": [
       "False"
      ]
     },
     "execution_count": 47,
     "metadata": {},
     "output_type": "execute_result"
    }
   ],
   "source": [
    "u=wage_data.mean()\n",
    "sd=wage_data.std()\n",
    "lb=u-3*sd\n",
    "ub=u+3*sd\n",
    "con1=wage_data>lb\n",
    "con2=wage_data<ub\n",
    "con= con1 & con2\n",
    "req=len(visa_df[con])\n",
    "acc=99.7*len(visa_df)/100\n",
    "req==acc"
   ]
  },
  {
   "cell_type": "markdown",
   "id": "b0dcfc54-1e70-45db-a65d-7610b6a1c579",
   "metadata": {},
   "source": [
    "**Histogram**"
   ]
  },
  {
   "cell_type": "code",
   "execution_count": 103,
   "id": "a1f85be8-eefe-42a7-9d30-892e7aed6304",
   "metadata": {},
   "outputs": [
    {
     "data": {
      "image/png": "[encoded data removed]",
      "text/plain": [
       "<Figure size 640x480 with 1 Axes>"
      ]
     },
     "metadata": {},
     "output_type": "display_data"
    }
   ],
   "source": [
    "counts,intervals,bins=plt.hist(wage_data)"
   ]
  },
  {
   "cell_type": "code",
   "execution_count": 60,
   "id": "c9e78273-9c56-4bd5-9b19-509576c4ca13",
   "metadata": {},
   "outputs": [
    {
     "data": {
      "text/plain": [
       "array([6038., 5504., 5681., 4551., 2334.,  624.,  373.,  240.,  114.,\n",
       "         21.])"
      ]
     },
     "execution_count": 60,
     "metadata": {},
     "output_type": "execute_result"
    }
   ],
   "source": [
    "counts"
   ]
  },
  {
   "cell_type": "code",
   "execution_count": 62,
   "id": "1f582c5d-4f98-445f-95fe-a820a95120a2",
   "metadata": {},
   "outputs": [
    {
     "data": {
      "text/plain": [
       "array([2.13670000e+00, 3.19229500e+04, 6.38437634e+04, 9.57645767e+04,\n",
       "       1.27685390e+05, 1.59606203e+05, 1.91527017e+05, 2.23447830e+05,\n",
       "       2.55368643e+05, 2.87289457e+05, 3.19210270e+05])"
      ]
     },
     "execution_count": 62,
     "metadata": {},
     "output_type": "execute_result"
    }
   ],
   "source": [
    "intervals"
   ]
  },
  {
   "cell_type": "code",
   "execution_count": 68,
   "id": "0911da55-debe-4c34-9368-d16b311ff453",
   "metadata": {},
   "outputs": [],
   "source": [
    "#there are 6038 observations between 2.13670000e+00 to 3.19229500e+04\n",
    "#there are 5504 observations between 3.19229500e+04 to 6.38437634e+04\n"
   ]
  },
  {
   "cell_type": "code",
   "execution_count": 97,
   "id": "2418314c-7193-40d0-89ab-138cf8ed0842",
   "metadata": {},
   "outputs": [
    {
     "data": {
      "text/plain": [
       "6038"
      ]
     },
     "execution_count": 97,
     "metadata": {},
     "output_type": "execute_result"
    }
   ],
   "source": [
    "u=wage_data.mean()\n",
    "#sd=wage_data.std()\n",
    "lb=2.13670000e+00\n",
    "ub=3.19229500e+04\n",
    "con1=wage_data>=lb\n",
    "con2=wage_data<=ub\n",
    "con= con1 & con2\n",
    "req=len(visa_df[con])\n",
    "#acc=99.7*len(visa_df)/100\n",
    "#print(req,acc)\n",
    "#req==acc\n",
    "req"
   ]
  },
  {
   "cell_type": "code",
   "execution_count": 99,
   "id": "88cf275d-bf9a-4d33-9b01-f09cb82f365a",
   "metadata": {},
   "outputs": [
    {
     "data": {
      "text/plain": [
       "5504"
      ]
     },
     "execution_count": 99,
     "metadata": {},
     "output_type": "execute_result"
    }
   ],
   "source": [
    "u=wage_data.mean()\n",
    "lb=3.19229500e+04\n",
    "ub=6.38437634e+04\n",
    "con1=wage_data>=lb\n",
    "con2=wage_data<=ub\n",
    "con= con1 & con2\n",
    "req=len(visa_df[con])\n",
    "req"
   ]
  },
  {
   "cell_type": "code",
   "execution_count": 117,
   "id": "39e761c2-6e73-4886-894d-a7e481f9e4da",
   "metadata": {},
   "outputs": [
    {
     "data": {
      "image/png": "[encoded data removed]",
      "text/plain": [
       "<Figure size 640x480 with 1 Axes>"
      ]
     },
     "metadata": {},
     "output_type": "display_data"
    }
   ],
   "source": [
    "counts,intervals,bins=plt.hist(wage_data,bins=20)"
   ]
  },
  {
   "cell_type": "code",
   "execution_count": 141,
   "id": "44cd5bee-d780-497d-9a8d-ea05df084b28",
   "metadata": {},
   "outputs": [
    {
     "data": {
      "image/png": "[encoded data removed]",
      "text/plain": [
       "<Figure size 1000x500 with 3 Axes>"
      ]
     },
     "metadata": {},
     "output_type": "display_data"
    }
   ],
   "source": [
    "plt.figure(figsize=(10,5))\n",
    "plt.subplot(1,3,1)\n",
    "plt.hist(wage_data)\n",
    "plt.subplot(1,3,2)\n",
    "plt.hist(wage_data,bins=40)\n",
    "plt.subplot(1,3,3)\n",
    "plt.hist(wage_data,bins=100)\n",
    "plt.show()"
   ]
  },
  {
   "cell_type": "code",
   "execution_count": 139,
   "id": "cc635927-d595-4089-8333-dcf41d260195",
   "metadata": {},
   "outputs": [
    {
     "data": {
      "image/png": "[encoded data removed]",
      "text/plain": [
       "<Figure size 1000x500 with 3 Axes>"
      ]
     },
     "metadata": {},
     "output_type": "display_data"
    }
   ],
   "source": [
    "plt.figure(figsize=(10,5))\n",
    "plt.subplot(1,3,1).hist(wage_data)\n",
    "plt.subplot(1,3,2).hist(wage_data,bins=40)\n",
    "plt.subplot(1,3,3).hist(wage_data,bins=100)\n",
    "plt.show()"
   ]
  },
  {
   "cell_type": "markdown",
   "id": "602a767d-4528-4557-b547-a6a265e12ead",
   "metadata": {},
   "source": [
    "**sns.histplot**"
   ]
  },
  {
   "cell_type": "code",
   "execution_count": 152,
   "id": "fc94783f-1380-41a6-91ef-b4521433a31c",
   "metadata": {},
   "outputs": [
    {
     "data": {
      "text/plain": [
       "<Axes: xlabel='prevailing_wage', ylabel='Count'>"
      ]
     },
     "execution_count": 152,
     "metadata": {},
     "output_type": "execute_result"
    },
    {
     "data": {
      "image/png": "[encoded data removed]",
      "text/plain": [
       "<Figure size 640x480 with 1 Axes>"
      ]
     },
     "metadata": {},
     "output_type": "display_data"
    }
   ],
   "source": [
    "import warnings\n",
    "warnings.filterwarnings('ignore')\n",
    "sns.histplot(wage_data,kde=True)"
   ]
  },
  {
   "cell_type": "code",
   "execution_count": 154,
   "id": "e22cdb9d-4414-4f81-8461-24f3e044eb8e",
   "metadata": {},
   "outputs": [
    {
     "data": {
      "text/plain": [
       "<Axes: xlabel='prevailing_wage', ylabel='Density'>"
      ]
     },
     "execution_count": 154,
     "metadata": {},
     "output_type": "execute_result"
    },
    {
     "data": {
      "image/png": "[encoded data removed]",
      "text/plain": [
       "<Figure size 640x480 with 1 Axes>"
      ]
     },
     "metadata": {},
     "output_type": "display_data"
    }
   ],
   "source": [
    "import warnings\n",
    "warnings.filterwarnings('ignore')\n",
    "sns.distplot(wage_data)"
   ]
  },
  {
   "cell_type": "code",
   "execution_count": null,
   "id": "abf3777c-8a3d-49da-805c-61875cb6fcc9",
   "metadata": {},
   "outputs": [],
   "source": []
  }
 ],
 "metadata": {
  "kernelspec": {
   "display_name": "Python [conda env:base] *",
   "language": "python",
   "name": "conda-base-py"
  },
  "language_info": {
   "codemirror_mode": {
    "name": "ipython",
    "version": 3
   },
   "file_extension": ".py",
   "mimetype": "text/x-python",
   "name": "python",
   "nbconvert_exporter": "python",
   "pygments_lexer": "ipython3",
   "version": "3.11.7"
  }
 },
 "nbformat": 4,
 "nbformat_minor": 5
}
